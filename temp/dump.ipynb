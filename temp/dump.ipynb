{
 "cells": [
  {
   "cell_type": "code",
   "execution_count": 38,
   "metadata": {},
   "outputs": [
    {
     "data": {
      "text/plain": [
       "__main__.Retailer"
      ]
     },
     "execution_count": 38,
     "metadata": {},
     "output_type": "execute_result"
    }
   ],
   "source": [
    "class Farmer:\n",
    "    def __init__(self) -> None:\n",
    "        pass\n",
    "\n",
    "class Retailer:\n",
    "    def __init__(self) -> None:\n",
    "        pass\n",
    "\n",
    "class Driver:\n",
    "    def __init__(self) -> None:\n",
    "        pass\n",
    "\n",
    "job_mapping = [Farmer, Retailer, Driver]\n",
    "\n",
    "current = Farmer()\n",
    "\n",
    "import numpy as np\n",
    "np.random.choice(job_mapping)"
   ]
  }
 ],
 "metadata": {
  "kernelspec": {
   "display_name": "Python 3",
   "language": "python",
   "name": "python3"
  },
  "language_info": {
   "codemirror_mode": {
    "name": "ipython",
    "version": 3
   },
   "file_extension": ".py",
   "mimetype": "text/x-python",
   "name": "python",
   "nbconvert_exporter": "python",
   "pygments_lexer": "ipython3",
   "version": "3.10.11"
  },
  "orig_nbformat": 4
 },
 "nbformat": 4,
 "nbformat_minor": 2
}
