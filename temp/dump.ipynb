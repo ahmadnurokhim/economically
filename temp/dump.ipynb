{
 "cells": [
  {
   "cell_type": "code",
   "execution_count": 8,
   "metadata": {},
   "outputs": [
    {
     "name": "stdout",
     "output_type": "stream",
     "text": [
      "       food  goods_c  transport  farmer  retailer  driver\n",
      "0  1.750000     1.75   1.750000      75        63      62\n",
      "1  1.750000     1.75   1.750000      74        69      57\n",
      "2  1.264065     1.75   0.711812      72        72      56\n",
      "3  1.147847     1.75   0.394328      72        74      55\n"
     ]
    }
   ],
   "source": [
    "import pandas as pd\n",
    "\n",
    "data = [\n",
    "    {'food': 1.75, 'goods_c': 1.75, 'transport': 1.75, 'farmer': 75, 'retailer': 63, 'driver': 62},\n",
    "    {'food': 1.75, 'goods_c': 1.75, 'transport': 1.75, 'farmer': 74, 'retailer': 69, 'driver': 57},\n",
    "    {'food': 1.2640648567119155, 'goods_c': 1.75, 'transport': 0.7118125, 'farmer': 72, 'retailer': 72, 'driver': 56},\n",
    "    {'food': 1.1478469079939668, 'goods_c': 1.75, 'transport': 0.39432815860215054, 'farmer': 72, 'retailer': 74, 'driver': 55}\n",
    "]\n",
    "\n",
    "# Convert the list of dictionaries to a pandas DataFrame\n",
    "df = pd.DataFrame(data)\n",
    "\n",
    "# Print the DataFrame\n",
    "print(df)\n"
   ]
  }
 ],
 "metadata": {
  "kernelspec": {
   "display_name": "Python 3",
   "language": "python",
   "name": "python3"
  },
  "language_info": {
   "codemirror_mode": {
    "name": "ipython",
    "version": 3
   },
   "file_extension": ".py",
   "mimetype": "text/x-python",
   "name": "python",
   "nbconvert_exporter": "python",
   "pygments_lexer": "ipython3",
   "version": "3.10.11"
  },
  "orig_nbformat": 4
 },
 "nbformat": 4,
 "nbformat_minor": 2
}
