{
 "cells": [
  {
   "cell_type": "code",
   "execution_count": 28,
   "metadata": {},
   "outputs": [
    {
     "name": "stdout",
     "output_type": "stream",
     "text": [
      "13.616085052490234\n"
     ]
    }
   ],
   "source": [
    "import numpy as np\n",
    "import time\n",
    "consumption={'food': 7.0, 'goods_c': 30.0, 'transport': 240.0}\n",
    "then = time.time()\n",
    "for x in range(1000):\n",
    "    consumption = {key: np.random.normal(value, value/20) for key, value in consumption.items()}\n",
    "    consumption\n",
    "print((time.time() - then) *1000)"
   ]
  }
 ],
 "metadata": {
  "kernelspec": {
   "display_name": "Python 3",
   "language": "python",
   "name": "python3"
  },
  "language_info": {
   "codemirror_mode": {
    "name": "ipython",
    "version": 3
   },
   "file_extension": ".py",
   "mimetype": "text/x-python",
   "name": "python",
   "nbconvert_exporter": "python",
   "pygments_lexer": "ipython3",
   "version": "3.10.11"
  },
  "orig_nbformat": 4
 },
 "nbformat": 4,
 "nbformat_minor": 2
}
